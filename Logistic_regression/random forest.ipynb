{
 "cells": [
  {
   "cell_type": "markdown",
   "metadata": {},
   "source": [
    "### logistic regression has reached it limit at AUC of 0.72, curious about if it is because of algorithm restriction, so get a small dataset to try one ensemble algorithm, random forest"
   ]
  },
  {
   "cell_type": "code",
   "execution_count": 1,
   "metadata": {
    "collapsed": false
   },
   "outputs": [],
   "source": [
    "import pandas as pd\n",
    "import numpy as np\n",
    "data=pd.read_csv('final_dummies_validation.csv') "
   ]
  },
  {
   "cell_type": "code",
   "execution_count": 2,
   "metadata": {
    "collapsed": true
   },
   "outputs": [],
   "source": [
    "data=data.sample(frac=0.2,replace=False)"
   ]
  },
  {
   "cell_type": "code",
   "execution_count": 3,
   "metadata": {
    "collapsed": true
   },
   "outputs": [],
   "source": [
    "data=data.drop([data.columns[0],'review_id','votes_total_user'],1)\n",
    "data=data.drop([data.columns[0]],1)"
   ]
  },
  {
   "cell_type": "code",
   "execution_count": 4,
   "metadata": {
    "collapsed": false
   },
   "outputs": [
    {
     "data": {
      "text/plain": [
       "(78274, 31)"
      ]
     },
     "execution_count": 4,
     "metadata": {},
     "output_type": "execute_result"
    }
   ],
   "source": [
    "data.shape"
   ]
  },
  {
   "cell_type": "code",
   "execution_count": 11,
   "metadata": {
    "collapsed": true
   },
   "outputs": [],
   "source": [
    "data_train, data_test, Y_train, Y_test = train_test_split(data,data['Label'], test_size=0.2)"
   ]
  },
  {
   "cell_type": "code",
   "execution_count": 5,
   "metadata": {
    "collapsed": false
   },
   "outputs": [
    {
     "name": "stderr",
     "output_type": "stream",
     "text": [
      "C:\\Users\\xulei\\Anaconda3\\lib\\site-packages\\sklearn\\cross_validation.py:44: DeprecationWarning: This module was deprecated in version 0.18 in favor of the model_selection module into which all the refactored classes and functions are moved. Also note that the interface of the new CV iterators are different from that of this module. This module will be removed in 0.20.\n",
      "  \"This module will be removed in 0.20.\", DeprecationWarning)\n"
     ]
    }
   ],
   "source": [
    "from sklearn.feature_extraction.text import CountVectorizer\n",
    "from sklearn.cross_validation import train_test_split\n",
    "import numpy as np\n",
    "import scipy as sp"
   ]
  },
  {
   "cell_type": "code",
   "execution_count": 12,
   "metadata": {
    "collapsed": true
   },
   "outputs": [],
   "source": [
    "data_train=pd.DataFrame(data_train)\n",
    "data_test=pd.DataFrame(data_test)"
   ]
  },
  {
   "cell_type": "code",
   "execution_count": 13,
   "metadata": {
    "collapsed": false,
    "scrolled": true
   },
   "outputs": [
    {
     "data": {
      "text/html": [
       "<div>\n",
       "<table border=\"1\" class=\"dataframe\">\n",
       "  <thead>\n",
       "    <tr style=\"text-align: right;\">\n",
       "      <th></th>\n",
       "      <th>text</th>\n",
       "      <th>Label</th>\n",
       "      <th>1.0_Price</th>\n",
       "      <th>2.0_Price</th>\n",
       "      <th>3.0_Price</th>\n",
       "      <th>4.0_Price</th>\n",
       "      <th>normalized_votes</th>\n",
       "      <th>0.0_Waiter Service</th>\n",
       "      <th>1.0_Waiter Service</th>\n",
       "      <th>1_open</th>\n",
       "      <th>...</th>\n",
       "      <th>1.0_Noise Level</th>\n",
       "      <th>0.0_Take-out</th>\n",
       "      <th>1.0_Take-out</th>\n",
       "      <th>0.0_Attire</th>\n",
       "      <th>1.0_Attire</th>\n",
       "      <th>1_Ambience_score</th>\n",
       "      <th>2_Ambience_score</th>\n",
       "      <th>3_Ambience_score</th>\n",
       "      <th>4_Ambience_score</th>\n",
       "      <th>6_Ambience_score</th>\n",
       "    </tr>\n",
       "  </thead>\n",
       "  <tbody>\n",
       "    <tr>\n",
       "      <th>259525</th>\n",
       "      <td>I have gave this place a lot of chances to cha...</td>\n",
       "      <td>1.0</td>\n",
       "      <td>1.0</td>\n",
       "      <td>0.0</td>\n",
       "      <td>0.0</td>\n",
       "      <td>0.0</td>\n",
       "      <td>-0.206797</td>\n",
       "      <td>0.0</td>\n",
       "      <td>1.0</td>\n",
       "      <td>1.0</td>\n",
       "      <td>...</td>\n",
       "      <td>1.0</td>\n",
       "      <td>0.0</td>\n",
       "      <td>1.0</td>\n",
       "      <td>0.0</td>\n",
       "      <td>1.0</td>\n",
       "      <td>1.0</td>\n",
       "      <td>0.0</td>\n",
       "      <td>0.0</td>\n",
       "      <td>0.0</td>\n",
       "      <td>0.0</td>\n",
       "    </tr>\n",
       "    <tr>\n",
       "      <th>220077</th>\n",
       "      <td>Man, this place is awesome. It's not just a su...</td>\n",
       "      <td>1.0</td>\n",
       "      <td>0.0</td>\n",
       "      <td>1.0</td>\n",
       "      <td>0.0</td>\n",
       "      <td>0.0</td>\n",
       "      <td>-0.203347</td>\n",
       "      <td>0.0</td>\n",
       "      <td>1.0</td>\n",
       "      <td>1.0</td>\n",
       "      <td>...</td>\n",
       "      <td>1.0</td>\n",
       "      <td>0.0</td>\n",
       "      <td>1.0</td>\n",
       "      <td>0.0</td>\n",
       "      <td>1.0</td>\n",
       "      <td>1.0</td>\n",
       "      <td>0.0</td>\n",
       "      <td>0.0</td>\n",
       "      <td>0.0</td>\n",
       "      <td>0.0</td>\n",
       "    </tr>\n",
       "    <tr>\n",
       "      <th>220870</th>\n",
       "      <td>I love chinese food and I love mexican food. W...</td>\n",
       "      <td>1.0</td>\n",
       "      <td>1.0</td>\n",
       "      <td>0.0</td>\n",
       "      <td>0.0</td>\n",
       "      <td>0.0</td>\n",
       "      <td>0.097952</td>\n",
       "      <td>1.0</td>\n",
       "      <td>0.0</td>\n",
       "      <td>1.0</td>\n",
       "      <td>...</td>\n",
       "      <td>1.0</td>\n",
       "      <td>0.0</td>\n",
       "      <td>1.0</td>\n",
       "      <td>0.0</td>\n",
       "      <td>1.0</td>\n",
       "      <td>1.0</td>\n",
       "      <td>0.0</td>\n",
       "      <td>0.0</td>\n",
       "      <td>0.0</td>\n",
       "      <td>0.0</td>\n",
       "    </tr>\n",
       "    <tr>\n",
       "      <th>237175</th>\n",
       "      <td>Yummy! Great service family restaurant...and t...</td>\n",
       "      <td>0.0</td>\n",
       "      <td>1.0</td>\n",
       "      <td>0.0</td>\n",
       "      <td>0.0</td>\n",
       "      <td>0.0</td>\n",
       "      <td>-0.203347</td>\n",
       "      <td>1.0</td>\n",
       "      <td>0.0</td>\n",
       "      <td>0.0</td>\n",
       "      <td>...</td>\n",
       "      <td>1.0</td>\n",
       "      <td>0.0</td>\n",
       "      <td>1.0</td>\n",
       "      <td>0.0</td>\n",
       "      <td>1.0</td>\n",
       "      <td>0.0</td>\n",
       "      <td>0.0</td>\n",
       "      <td>0.0</td>\n",
       "      <td>0.0</td>\n",
       "      <td>0.0</td>\n",
       "    </tr>\n",
       "    <tr>\n",
       "      <th>322838</th>\n",
       "      <td>Best French fries in town! Awesome burgers! On...</td>\n",
       "      <td>0.0</td>\n",
       "      <td>1.0</td>\n",
       "      <td>0.0</td>\n",
       "      <td>0.0</td>\n",
       "      <td>0.0</td>\n",
       "      <td>-0.207084</td>\n",
       "      <td>1.0</td>\n",
       "      <td>0.0</td>\n",
       "      <td>1.0</td>\n",
       "      <td>...</td>\n",
       "      <td>1.0</td>\n",
       "      <td>0.0</td>\n",
       "      <td>1.0</td>\n",
       "      <td>0.0</td>\n",
       "      <td>1.0</td>\n",
       "      <td>1.0</td>\n",
       "      <td>0.0</td>\n",
       "      <td>0.0</td>\n",
       "      <td>0.0</td>\n",
       "      <td>0.0</td>\n",
       "    </tr>\n",
       "  </tbody>\n",
       "</table>\n",
       "<p>5 rows × 31 columns</p>\n",
       "</div>"
      ],
      "text/plain": [
       "                                                     text  Label  1.0_Price  \\\n",
       "259525  I have gave this place a lot of chances to cha...    1.0        1.0   \n",
       "220077  Man, this place is awesome. It's not just a su...    1.0        0.0   \n",
       "220870  I love chinese food and I love mexican food. W...    1.0        1.0   \n",
       "237175  Yummy! Great service family restaurant...and t...    0.0        1.0   \n",
       "322838  Best French fries in town! Awesome burgers! On...    0.0        1.0   \n",
       "\n",
       "        2.0_Price  3.0_Price  4.0_Price  normalized_votes  0.0_Waiter Service  \\\n",
       "259525        0.0        0.0        0.0         -0.206797                 0.0   \n",
       "220077        1.0        0.0        0.0         -0.203347                 0.0   \n",
       "220870        0.0        0.0        0.0          0.097952                 1.0   \n",
       "237175        0.0        0.0        0.0         -0.203347                 1.0   \n",
       "322838        0.0        0.0        0.0         -0.207084                 1.0   \n",
       "\n",
       "        1.0_Waiter Service  1_open        ...         1.0_Noise Level  \\\n",
       "259525                 1.0     1.0        ...                     1.0   \n",
       "220077                 1.0     1.0        ...                     1.0   \n",
       "220870                 0.0     1.0        ...                     1.0   \n",
       "237175                 0.0     0.0        ...                     1.0   \n",
       "322838                 0.0     1.0        ...                     1.0   \n",
       "\n",
       "        0.0_Take-out  1.0_Take-out  0.0_Attire  1.0_Attire  1_Ambience_score  \\\n",
       "259525           0.0           1.0         0.0         1.0               1.0   \n",
       "220077           0.0           1.0         0.0         1.0               1.0   \n",
       "220870           0.0           1.0         0.0         1.0               1.0   \n",
       "237175           0.0           1.0         0.0         1.0               0.0   \n",
       "322838           0.0           1.0         0.0         1.0               1.0   \n",
       "\n",
       "        2_Ambience_score  3_Ambience_score  4_Ambience_score  6_Ambience_score  \n",
       "259525               0.0               0.0               0.0               0.0  \n",
       "220077               0.0               0.0               0.0               0.0  \n",
       "220870               0.0               0.0               0.0               0.0  \n",
       "237175               0.0               0.0               0.0               0.0  \n",
       "322838               0.0               0.0               0.0               0.0  \n",
       "\n",
       "[5 rows x 31 columns]"
      ]
     },
     "execution_count": 13,
     "metadata": {},
     "output_type": "execute_result"
    }
   ],
   "source": [
    "data_train.head()"
   ]
  },
  {
   "cell_type": "code",
   "execution_count": 14,
   "metadata": {
    "collapsed": false
   },
   "outputs": [],
   "source": [
    "vectorizer = CountVectorizer(max_features=None,ngram_range=(1,2)) \n",
    "vectorizer.fit(data_train['text'].copy())\n",
    "X_train_text= vectorizer.transform(data_train['text'].copy())\n",
    "X_test_text=vectorizer.transform(data_test['text'].copy())\n",
    "X_train_other=sp.sparse.csr_matrix(data_train.drop(['text','Label'],1).astype(float))\n",
    "X_train=sp.sparse.hstack([X_train_text,X_train_other]) #This is the variable set, suppose ‘a’ is the sparse matrix from CountVectorizer/balabala fit-transformed data.\n",
    "X_test_other=sp.sparse.csr_matrix(data_test.drop(['text','Label'],1).astype(float))\n",
    "X_test=sp.sparse.hstack([X_test_text,X_test_other])"
   ]
  },
  {
   "cell_type": "code",
   "execution_count": 15,
   "metadata": {
    "collapsed": true
   },
   "outputs": [],
   "source": [
    "from sklearn.ensemble import RandomForestClassifier\n",
    "from sklearn.tree import DecisionTreeClassifier\n",
    "from sklearn.metrics import roc_curve,auc"
   ]
  },
  {
   "cell_type": "code",
   "execution_count": 20,
   "metadata": {
    "collapsed": false
   },
   "outputs": [],
   "source": [
    "rf_def = RandomForestClassifier(criterion='entropy', n_estimators=100)\n",
    "rf_def = rf_def.fit(X_train, Y_train)\n",
    "rf_pred = rf_def.predict_proba(X_test)"
   ]
  },
  {
   "cell_type": "code",
   "execution_count": 21,
   "metadata": {
    "collapsed": true
   },
   "outputs": [],
   "source": [
    "def plotROC(X_test_proba,Y_test,label_string):\n",
    "    fpr, tpr, thresholds = roc_curve(Y_test, X_test_proba)\n",
    "    roc_auc = auc(fpr, tpr)\n",
    "    c = (np.random.rand(), np.random.rand(), np.random.rand())\n",
    "    fig=plt.figure()\n",
    "    plt.plot(fpr, tpr, color = c, label = label_string + ' (AUC = %0.3f)' % roc_auc)\n",
    "    plt.plot([0, 1], [0, 1], 'k--')\n",
    "    plt.xlabel('FPR')\n",
    "    plt.ylabel('TPR')\n",
    "    plt.title('ROC_{0}'.format(label_string))\n",
    "    plt.legend(loc=4,prop={'size':10})\n",
    "    plt.savefig('{0}.pdf'.format(label_string))\n",
    "    return roc_auc"
   ]
  },
  {
   "cell_type": "code",
   "execution_count": 24,
   "metadata": {
    "collapsed": true
   },
   "outputs": [],
   "source": [
    "import matplotlib.pyplot as plt"
   ]
  },
  {
   "cell_type": "code",
   "execution_count": 25,
   "metadata": {
    "collapsed": false
   },
   "outputs": [],
   "source": [
    "auc_rm=plotROC(rf_pred[:,1],Y_test,'Random Forest')"
   ]
  }
 ],
 "metadata": {
  "kernelspec": {
   "display_name": "Python [Root]",
   "language": "python",
   "name": "Python [Root]"
  },
  "language_info": {
   "codemirror_mode": {
    "name": "ipython",
    "version": 3
   },
   "file_extension": ".py",
   "mimetype": "text/x-python",
   "name": "python",
   "nbconvert_exporter": "python",
   "pygments_lexer": "ipython3",
   "version": "3.5.2"
  }
 },
 "nbformat": 4,
 "nbformat_minor": 0
}
