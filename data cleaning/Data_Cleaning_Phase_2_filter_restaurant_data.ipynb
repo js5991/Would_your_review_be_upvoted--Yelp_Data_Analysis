{
 "cells": [
  {
   "cell_type": "markdown",
   "metadata": {},
   "source": [
    "### Work List\n",
    "1. load the data\n",
    "2. remove the title in 'business' form since the column name starts with 'attribute'\n",
    "3. remove the b' and ' in all string cell\n",
    "4. fix the problem of naming(business_id rename)\n",
    "5. filter the those we care which I mean restaurant business, review only relate to restaurant, user who wrote these reviews\n",
    "6. output the dataset into csv and move on to the next phase: clean each one (before merge)"
   ]
  },
  {
   "cell_type": "code",
   "execution_count": 1,
   "metadata": {
    "collapsed": false
   },
   "outputs": [
    {
     "name": "stderr",
     "output_type": "stream",
     "text": [
      "C:\\Users\\xulei\\Anaconda3\\lib\\site-packages\\IPython\\core\\interactiveshell.py:2717: DtypeWarning: Columns (3,4,32,39,45,46,49,50,53,75,83,93) have mixed types. Specify dtype option on import or set low_memory=False.\n",
      "  interactivity=interactivity, compiler=compiler, result=result)\n"
     ]
    }
   ],
   "source": [
    "import pandas as pd\n",
    "business=pd.DataFrame(pd.read_csv('yelp_academic_dataset_business.csv'));\n",
    "review=pd.DataFrame(pd.read_csv('yelp_academic_dataset_review.csv'))\n",
    "user=pd.DataFrame(pd.read_csv('yelp_academic_dataset_user.csv'))"
   ]
  },
  {
   "cell_type": "code",
   "execution_count": 2,
   "metadata": {
    "collapsed": true
   },
   "outputs": [],
   "source": [
    "pd.set_option('display.max_columns',None)# set the option so can see all the columns"
   ]
  },
  {
   "cell_type": "code",
   "execution_count": 12,
   "metadata": {
    "collapsed": true
   },
   "outputs": [],
   "source": [
    "business.columns=business.columns.map(lambda x:x.lstrip('attributes.'))"
   ]
  },
  {
   "cell_type": "code",
   "execution_count": 19,
   "metadata": {
    "collapsed": true
   },
   "outputs": [],
   "source": [
    "def removeb(x):\n",
    "    if type(x)==str:\n",
    "        x=x[2:-1]\n",
    "        return x\n",
    "    else: return x"
   ]
  },
  {
   "cell_type": "code",
   "execution_count": 20,
   "metadata": {
    "collapsed": true
   },
   "outputs": [],
   "source": [
    "user=user.applymap(lambda x:removeb(x))\n",
    "business=business.applymap(lambda x:removeb(x))"
   ]
  },
  {
   "cell_type": "code",
   "execution_count": 21,
   "metadata": {
    "collapsed": true
   },
   "outputs": [],
   "source": [
    "review=review.applymap(lambda x:removeb(x)) "
   ]
  },
  {
   "cell_type": "code",
   "execution_count": 24,
   "metadata": {
    "collapsed": true
   },
   "outputs": [],
   "source": [
    "business.rename(columns={'ness_id':'business_id'}, inplace=True)"
   ]
  },
  {
   "cell_type": "code",
   "execution_count": 25,
   "metadata": {
    "collapsed": false
   },
   "outputs": [],
   "source": [
    "business_restaurant=business[business['categories'].str.find(\"Restaurant\")>=0]\n",
    "review_restaurant=review[review['business_id'].isin(business_restaurant['business_id'])]\n",
    "user_restaurant=user[user['user_id'].isin(review_restaurant['user_id'])]"
   ]
  },
  {
   "cell_type": "code",
   "execution_count": 27,
   "metadata": {
    "collapsed": true
   },
   "outputs": [],
   "source": [
    "business_restaurant.to_csv('business_restaurant.csv')\n",
    "review_restaurant.to_csv('review_restaurant.csv')\n",
    "user_restaurant.to_csv('user_restaurant.csv')"
   ]
  }
 ],
 "metadata": {
  "anaconda-cloud": {},
  "kernelspec": {
   "display_name": "Python [Root]",
   "language": "python",
   "name": "Python [Root]"
  },
  "language_info": {
   "codemirror_mode": {
    "name": "ipython",
    "version": 3
   },
   "file_extension": ".py",
   "mimetype": "text/x-python",
   "name": "python",
   "nbconvert_exporter": "python",
   "pygments_lexer": "ipython3",
   "version": "3.5.2"
  }
 },
 "nbformat": 4,
 "nbformat_minor": 0
}
