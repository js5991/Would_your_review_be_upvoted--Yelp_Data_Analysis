{
 "cells": [
  {
   "cell_type": "markdown",
   "metadata": {},
   "source": [
    "### Work List\n",
    "1. load the file of user, then drop the first column which is the previous index\n",
    "2. remove useless columns such as 'type' (user.ype.value_counts()# which is only 'user' with zero variance),'name'(user's name)(drop na is not the situation here)\n",
    "3. get the count of friends from the friend ID list, then drop the list of friend ID\n",
    "4. format 'elite' column and convert it into 'elite year' and 'last elite year'\n",
    "5. calculating user's yelp life using 'yelp_since' variable\n",
    "6. get users' total vote(include vote_funny, vote_useful and vote_cool)\n",
    "7. add '_user' to its columns name in order to distinguish from similar name in other two forms when combined together.\n",
    "8. delete columns with missing value more than 78% (Threshold is decided by distribution)"
   ]
  },
  {
   "cell_type": "code",
   "execution_count": 1,
   "metadata": {
    "collapsed": true
   },
   "outputs": [],
   "source": [
    "import pandas as pd\n",
    "user=pd.read_csv('user_restaurant.csv')\n",
    "user=user.drop(user.columns[0],1)"
   ]
  },
  {
   "cell_type": "code",
   "execution_count": 2,
   "metadata": {
    "collapsed": true
   },
   "outputs": [],
   "source": [
    "user=user.dropna(axis=1,how='all')"
   ]
  },
  {
   "cell_type": "code",
   "execution_count": 3,
   "metadata": {
    "collapsed": true
   },
   "outputs": [],
   "source": [
    "user=user.drop(['type','name'],1)"
   ]
  },
  {
   "cell_type": "code",
   "execution_count": 4,
   "metadata": {
    "collapsed": false
   },
   "outputs": [],
   "source": [
    "user['friend_count']=user['friends'].map(lambda x: len(x.split(',')) if type(x) != float else 0)\n",
    "user=user.drop('friends',1)\n",
    "#some are with value Nan, actually when removing b' and ' the previous data is [] and were all removed so actually there\n",
    "#should be zero. (should not have missing value since it should be extracted from user information.)"
   ]
  },
  {
   "cell_type": "code",
   "execution_count": 5,
   "metadata": {
    "collapsed": true
   },
   "outputs": [],
   "source": [
    "user['last_elite_year']=user['elite'].map(lambda x: x.split(',')[-1] if type(x) != float else x)\n",
    "user['elite_year_count']=user['elite'].map(lambda x: len(x.split(','))if type(x) != float else 0)\n",
    "def convert_to_full_yr(x):\n",
    "    if len(x)==3:\n",
    "        return ' 2'+x\n",
    "    else: return x\n",
    "user['last_elite_year']=user['last_elite_year'].map(lambda x: convert_to_full_yr(x) if type(x) != float else x)\n",
    "user['last_elite_year']=user['last_elite_year'].map(lambda x: x[1:] if type(x) != float else x)\n",
    "user=user.drop('elite',1)"
   ]
  },
  {
   "cell_type": "code",
   "execution_count": 7,
   "metadata": {
    "collapsed": false
   },
   "outputs": [],
   "source": [
    "user['not_elite_yr_till']=user['last_elite_year'].map(lambda x: 2016-int(x) if type(x) != float else x)\n",
    "user=user.drop('last_elite_year',1)"
   ]
  },
  {
   "cell_type": "code",
   "execution_count": 8,
   "metadata": {
    "collapsed": true
   },
   "outputs": [],
   "source": [
    "user['user_life']=user['yelping_since'].map(lambda x: 2017-int(x[0:4]))\n",
    "user=user.drop('yelping_since',1)"
   ]
  },
  {
   "cell_type": "code",
   "execution_count": 9,
   "metadata": {
    "collapsed": true
   },
   "outputs": [],
   "source": [
    "user['votes_total']=user['votes.funny']+user['votes.useful']+user['votes.cool']\n",
    "user=user.drop(['votes.funny','votes.useful','votes.cool'],1)"
   ]
  },
  {
   "cell_type": "code",
   "execution_count": 12,
   "metadata": {
    "collapsed": true
   },
   "outputs": [],
   "source": [
    "user.columns=user.columns+'_user'"
   ]
  },
  {
   "cell_type": "code",
   "execution_count": 13,
   "metadata": {
    "collapsed": true
   },
   "outputs": [],
   "source": [
    "user.to_csv('cleaned_phase1_user_restaurant.csv')"
   ]
  },
  {
   "cell_type": "code",
   "execution_count": 10,
   "metadata": {
    "collapsed": false
   },
   "outputs": [
    {
     "data": {
      "text/plain": [
       "(478841, 20)"
      ]
     },
     "execution_count": 10,
     "metadata": {},
     "output_type": "execute_result"
    }
   ],
   "source": [
    "user.shape"
   ]
  },
  {
   "cell_type": "code",
   "execution_count": 11,
   "metadata": {
    "collapsed": false
   },
   "outputs": [
    {
     "data": {
      "text/html": [
       "<div>\n",
       "<table border=\"1\" class=\"dataframe\">\n",
       "  <thead>\n",
       "    <tr style=\"text-align: right;\">\n",
       "      <th></th>\n",
       "      <th>compliments.more</th>\n",
       "      <th>compliments.plain</th>\n",
       "      <th>compliments.photos</th>\n",
       "      <th>user_id</th>\n",
       "      <th>compliments.hot</th>\n",
       "      <th>compliments.cute</th>\n",
       "      <th>compliments.note</th>\n",
       "      <th>compliments.profile</th>\n",
       "      <th>compliments.cool</th>\n",
       "      <th>average_stars</th>\n",
       "      <th>compliments.funny</th>\n",
       "      <th>compliments.writer</th>\n",
       "      <th>review_count</th>\n",
       "      <th>fans</th>\n",
       "      <th>compliments.list</th>\n",
       "      <th>friend_count</th>\n",
       "      <th>elite_year_count</th>\n",
       "      <th>not_elite_yr_till</th>\n",
       "      <th>user_life</th>\n",
       "      <th>votes_total</th>\n",
       "    </tr>\n",
       "  </thead>\n",
       "  <tbody>\n",
       "    <tr>\n",
       "      <th>0</th>\n",
       "      <td>3.0</td>\n",
       "      <td>25.0</td>\n",
       "      <td>14.0</td>\n",
       "      <td>18kPq7GPye-YQ3LyKyAZPw</td>\n",
       "      <td>48.0</td>\n",
       "      <td>15.0</td>\n",
       "      <td>20.0</td>\n",
       "      <td>8.0</td>\n",
       "      <td>76.0</td>\n",
       "      <td>4.14</td>\n",
       "      <td>11.0</td>\n",
       "      <td>9.0</td>\n",
       "      <td>108</td>\n",
       "      <td>69</td>\n",
       "      <td>NaN</td>\n",
       "      <td>200</td>\n",
       "      <td>2</td>\n",
       "      <td>10.0</td>\n",
       "      <td>13</td>\n",
       "      <td>695</td>\n",
       "    </tr>\n",
       "    <tr>\n",
       "      <th>1</th>\n",
       "      <td>137.0</td>\n",
       "      <td>970.0</td>\n",
       "      <td>361.0</td>\n",
       "      <td>rpOyqD_893cqmDAtJLbdog</td>\n",
       "      <td>1111.0</td>\n",
       "      <td>204.0</td>\n",
       "      <td>611.0</td>\n",
       "      <td>117.0</td>\n",
       "      <td>1675.0</td>\n",
       "      <td>3.67</td>\n",
       "      <td>594.0</td>\n",
       "      <td>346.0</td>\n",
       "      <td>1292</td>\n",
       "      <td>1345</td>\n",
       "      <td>38.0</td>\n",
       "      <td>1939</td>\n",
       "      <td>12</td>\n",
       "      <td>0.0</td>\n",
       "      <td>13</td>\n",
       "      <td>35732</td>\n",
       "    </tr>\n",
       "    <tr>\n",
       "      <th>2</th>\n",
       "      <td>18.0</td>\n",
       "      <td>86.0</td>\n",
       "      <td>27.0</td>\n",
       "      <td>4U9kSBLuBDU391x6bxU-YA</td>\n",
       "      <td>99.0</td>\n",
       "      <td>22.0</td>\n",
       "      <td>79.0</td>\n",
       "      <td>9.0</td>\n",
       "      <td>134.0</td>\n",
       "      <td>3.68</td>\n",
       "      <td>96.0</td>\n",
       "      <td>24.0</td>\n",
       "      <td>395</td>\n",
       "      <td>105</td>\n",
       "      <td>4.0</td>\n",
       "      <td>422</td>\n",
       "      <td>11</td>\n",
       "      <td>1.0</td>\n",
       "      <td>13</td>\n",
       "      <td>2728</td>\n",
       "    </tr>\n",
       "    <tr>\n",
       "      <th>3</th>\n",
       "      <td>NaN</td>\n",
       "      <td>NaN</td>\n",
       "      <td>NaN</td>\n",
       "      <td>fHtTaujcyKvXglE33Z5yIw</td>\n",
       "      <td>NaN</td>\n",
       "      <td>2.0</td>\n",
       "      <td>NaN</td>\n",
       "      <td>NaN</td>\n",
       "      <td>NaN</td>\n",
       "      <td>4.64</td>\n",
       "      <td>NaN</td>\n",
       "      <td>NaN</td>\n",
       "      <td>11</td>\n",
       "      <td>2</td>\n",
       "      <td>NaN</td>\n",
       "      <td>4</td>\n",
       "      <td>0</td>\n",
       "      <td>NaN</td>\n",
       "      <td>13</td>\n",
       "      <td>17</td>\n",
       "    </tr>\n",
       "    <tr>\n",
       "      <th>4</th>\n",
       "      <td>1.0</td>\n",
       "      <td>2.0</td>\n",
       "      <td>NaN</td>\n",
       "      <td>SIBCL7HBkrP4llolm4SC2A</td>\n",
       "      <td>1.0</td>\n",
       "      <td>2.0</td>\n",
       "      <td>1.0</td>\n",
       "      <td>NaN</td>\n",
       "      <td>1.0</td>\n",
       "      <td>3.80</td>\n",
       "      <td>NaN</td>\n",
       "      <td>2.0</td>\n",
       "      <td>66</td>\n",
       "      <td>5</td>\n",
       "      <td>NaN</td>\n",
       "      <td>4</td>\n",
       "      <td>1</td>\n",
       "      <td>11.0</td>\n",
       "      <td>13</td>\n",
       "      <td>66</td>\n",
       "    </tr>\n",
       "  </tbody>\n",
       "</table>\n",
       "</div>"
      ],
      "text/plain": [
       "   compliments.more  compliments.plain  compliments.photos  \\\n",
       "0               3.0               25.0                14.0   \n",
       "1             137.0              970.0               361.0   \n",
       "2              18.0               86.0                27.0   \n",
       "3               NaN                NaN                 NaN   \n",
       "4               1.0                2.0                 NaN   \n",
       "\n",
       "                  user_id  compliments.hot  compliments.cute  \\\n",
       "0  18kPq7GPye-YQ3LyKyAZPw             48.0              15.0   \n",
       "1  rpOyqD_893cqmDAtJLbdog           1111.0             204.0   \n",
       "2  4U9kSBLuBDU391x6bxU-YA             99.0              22.0   \n",
       "3  fHtTaujcyKvXglE33Z5yIw              NaN               2.0   \n",
       "4  SIBCL7HBkrP4llolm4SC2A              1.0               2.0   \n",
       "\n",
       "   compliments.note  compliments.profile  compliments.cool  average_stars  \\\n",
       "0              20.0                  8.0              76.0           4.14   \n",
       "1             611.0                117.0            1675.0           3.67   \n",
       "2              79.0                  9.0             134.0           3.68   \n",
       "3               NaN                  NaN               NaN           4.64   \n",
       "4               1.0                  NaN               1.0           3.80   \n",
       "\n",
       "   compliments.funny  compliments.writer  review_count  fans  \\\n",
       "0               11.0                 9.0           108    69   \n",
       "1              594.0               346.0          1292  1345   \n",
       "2               96.0                24.0           395   105   \n",
       "3                NaN                 NaN            11     2   \n",
       "4                NaN                 2.0            66     5   \n",
       "\n",
       "   compliments.list  friend_count  elite_year_count  not_elite_yr_till  \\\n",
       "0               NaN           200                 2               10.0   \n",
       "1              38.0          1939                12                0.0   \n",
       "2               4.0           422                11                1.0   \n",
       "3               NaN             4                 0                NaN   \n",
       "4               NaN             4                 1               11.0   \n",
       "\n",
       "   user_life  votes_total  \n",
       "0         13          695  \n",
       "1         13        35732  \n",
       "2         13         2728  \n",
       "3         13           17  \n",
       "4         13           66  "
      ]
     },
     "execution_count": 11,
     "metadata": {},
     "output_type": "execute_result"
    }
   ],
   "source": [
    "user.head(5)"
   ]
  }
 ],
 "metadata": {
  "kernelspec": {
   "display_name": "Python [Root]",
   "language": "python",
   "name": "Python [Root]"
  },
  "language_info": {
   "codemirror_mode": {
    "name": "ipython",
    "version": 3
   },
   "file_extension": ".py",
   "mimetype": "text/x-python",
   "name": "python",
   "nbconvert_exporter": "python",
   "pygments_lexer": "ipython3",
   "version": "3.5.2"
  }
 },
 "nbformat": 4,
 "nbformat_minor": 0
}
